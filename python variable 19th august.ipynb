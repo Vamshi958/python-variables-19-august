{
 "cells": [
  {
   "cell_type": "code",
   "execution_count": 1,
   "id": "af8dcc48-9931-4055-9a0a-826d904010d5",
   "metadata": {},
   "outputs": [
    {
     "data": {
      "text/plain": [
       "3"
      ]
     },
     "execution_count": 1,
     "metadata": {},
     "output_type": "execute_result"
    }
   ],
   "source": [
    "1+2"
   ]
  },
  {
   "cell_type": "markdown",
   "id": "676b6fa7-5100-4853-b315-e7a98f4b4343",
   "metadata": {},
   "source": [
    "Python Variables 19 august"
   ]
  },
  {
   "cell_type": "code",
   "execution_count": 2,
   "id": "98c32b93-3894-477d-bf5d-dfef9da622e6",
   "metadata": {},
   "outputs": [
    {
     "data": {
      "text/plain": [
       "67"
      ]
     },
     "execution_count": 2,
     "metadata": {},
     "output_type": "execute_result"
    }
   ],
   "source": [
    "32+35"
   ]
  },
  {
   "cell_type": "code",
   "execution_count": 3,
   "id": "5f6af7af-6708-42cc-be82-8c592a6371ca",
   "metadata": {},
   "outputs": [
    {
     "data": {
      "text/plain": [
       "10"
      ]
     },
     "execution_count": 3,
     "metadata": {},
     "output_type": "execute_result"
    }
   ],
   "source": [
    "a=10 #variable is a placeholder where you can store any data and call whenever you want,it will give stored data\n",
    "a"
   ]
  },
  {
   "cell_type": "code",
   "execution_count": 4,
   "id": "0344fff3-f944-4a2d-adbc-5f56c826b7db",
   "metadata": {},
   "outputs": [],
   "source": [
    "vamshi=1233333 #you can give any name to the variable"
   ]
  },
  {
   "cell_type": "code",
   "execution_count": 5,
   "id": "d3382550-f36b-4316-a51e-c1051d57b0b4",
   "metadata": {},
   "outputs": [
    {
     "data": {
      "text/plain": [
       "1233333"
      ]
     },
     "execution_count": 5,
     "metadata": {},
     "output_type": "execute_result"
    }
   ],
   "source": [
    "vamshi"
   ]
  },
  {
   "cell_type": "code",
   "execution_count": 6,
   "id": "bc8a9480-8abd-4687-9138-d47c606688f4",
   "metadata": {},
   "outputs": [
    {
     "data": {
      "text/plain": [
       "int"
      ]
     },
     "execution_count": 6,
     "metadata": {},
     "output_type": "execute_result"
    }
   ],
   "source": [
    "type(vamshi)#type is a function"
   ]
  },
  {
   "cell_type": "code",
   "execution_count": 7,
   "id": "c3b38737-9f63-4222-8338-68f6d2f3c930",
   "metadata": {},
   "outputs": [],
   "source": [
    "v=\"pwskills\""
   ]
  },
  {
   "cell_type": "code",
   "execution_count": 8,
   "id": "e5658ea4-1cc0-4f92-b520-785a16e72b3e",
   "metadata": {},
   "outputs": [
    {
     "data": {
      "text/plain": [
       "'pwskills'"
      ]
     },
     "execution_count": 8,
     "metadata": {},
     "output_type": "execute_result"
    }
   ],
   "source": [
    "v"
   ]
  },
  {
   "cell_type": "code",
   "execution_count": 9,
   "id": "916e5546-1c8f-4667-b788-995101e9aa9b",
   "metadata": {},
   "outputs": [
    {
     "data": {
      "text/plain": [
       "str"
      ]
     },
     "execution_count": 9,
     "metadata": {},
     "output_type": "execute_result"
    }
   ],
   "source": [
    "type(v)"
   ]
  },
  {
   "cell_type": "code",
   "execution_count": 10,
   "id": "93787c10-26df-4388-9cab-cc5525342ed8",
   "metadata": {},
   "outputs": [
    {
     "data": {
      "text/plain": [
       "'this is my first python code'"
      ]
     },
     "execution_count": 10,
     "metadata": {},
     "output_type": "execute_result"
    }
   ],
   "source": [
    "s1=\"this is my first python code\"\n",
    "s1\n"
   ]
  },
  {
   "cell_type": "code",
   "execution_count": 11,
   "id": "d5749ab0-ea4a-442c-b0ba-ff048113803e",
   "metadata": {},
   "outputs": [
    {
     "data": {
      "text/plain": [
       "2.33"
      ]
     },
     "execution_count": 11,
     "metadata": {},
     "output_type": "execute_result"
    }
   ],
   "source": [
    "f=2.33\n",
    "f"
   ]
  },
  {
   "cell_type": "code",
   "execution_count": 12,
   "id": "c8208987-00aa-4961-a096-5bcec330397b",
   "metadata": {},
   "outputs": [
    {
     "data": {
      "text/plain": [
       "float"
      ]
     },
     "execution_count": 12,
     "metadata": {},
     "output_type": "execute_result"
    }
   ],
   "source": [
    "type(f)"
   ]
  },
  {
   "cell_type": "code",
   "execution_count": 13,
   "id": "9a48fe81-9d6f-4879-99a0-27fab7d32860",
   "metadata": {},
   "outputs": [],
   "source": [
    "c=1+2j\n"
   ]
  },
  {
   "cell_type": "code",
   "execution_count": 14,
   "id": "bd4a801a-205e-4e20-b43f-b7320e89417e",
   "metadata": {},
   "outputs": [
    {
     "data": {
      "text/plain": [
       "complex"
      ]
     },
     "execution_count": 14,
     "metadata": {},
     "output_type": "execute_result"
    }
   ],
   "source": [
    "type(c)"
   ]
  },
  {
   "cell_type": "code",
   "execution_count": 15,
   "id": "fa1ede8b-327a-4779-a4aa-67e946baf29f",
   "metadata": {},
   "outputs": [
    {
     "data": {
      "text/plain": [
       "(1+2j)"
      ]
     },
     "execution_count": 15,
     "metadata": {},
     "output_type": "execute_result"
    }
   ],
   "source": [
    "c"
   ]
  },
  {
   "cell_type": "code",
   "execution_count": 16,
   "id": "f7bfe2ac-ce7e-4e1c-b4f3-395a1e6e5135",
   "metadata": {},
   "outputs": [
    {
     "data": {
      "text/plain": [
       "1.0"
      ]
     },
     "execution_count": 16,
     "metadata": {},
     "output_type": "execute_result"
    }
   ],
   "source": [
    "c.real"
   ]
  },
  {
   "cell_type": "code",
   "execution_count": 17,
   "id": "3033735d-abb3-43c4-8b0f-f35a596aca28",
   "metadata": {},
   "outputs": [
    {
     "data": {
      "text/plain": [
       "2.0"
      ]
     },
     "execution_count": 17,
     "metadata": {},
     "output_type": "execute_result"
    }
   ],
   "source": [
    "c.imag"
   ]
  },
  {
   "cell_type": "raw",
   "id": "8d761851-88a4-485f-ab6e-795bd05dba35",
   "metadata": {},
   "source": [
    "boolean"
   ]
  },
  {
   "cell_type": "code",
   "execution_count": 18,
   "id": "f7da85a1-6f98-42b9-b006-fffb378faa7c",
   "metadata": {},
   "outputs": [
    {
     "data": {
      "text/plain": [
       "True"
      ]
     },
     "execution_count": 18,
     "metadata": {},
     "output_type": "execute_result"
    }
   ],
   "source": [
    "a=True\n",
    "a"
   ]
  },
  {
   "cell_type": "code",
   "execution_count": 19,
   "id": "9b90554e-5a3f-4cf9-b5b0-b60461e54586",
   "metadata": {},
   "outputs": [
    {
     "data": {
      "text/plain": [
       "bool"
      ]
     },
     "execution_count": 19,
     "metadata": {},
     "output_type": "execute_result"
    }
   ],
   "source": [
    "type(a)"
   ]
  },
  {
   "cell_type": "code",
   "execution_count": 20,
   "id": "22bed439-95dc-4d8d-bda2-5dc3a570e1e4",
   "metadata": {},
   "outputs": [
    {
     "data": {
      "text/plain": [
       "bool"
      ]
     },
     "execution_count": 20,
     "metadata": {},
     "output_type": "execute_result"
    }
   ],
   "source": [
    "b=False\n",
    "type(b)\n"
   ]
  },
  {
   "cell_type": "code",
   "execution_count": 21,
   "id": "2df31493-6c62-4123-adb0-4ba585d0a897",
   "metadata": {},
   "outputs": [
    {
     "data": {
      "text/plain": [
       "False"
      ]
     },
     "execution_count": 21,
     "metadata": {},
     "output_type": "execute_result"
    }
   ],
   "source": [
    "b"
   ]
  },
  {
   "cell_type": "code",
   "execution_count": 22,
   "id": "509aa1d2-55f2-4566-952f-c48aa20a7680",
   "metadata": {},
   "outputs": [
    {
     "data": {
      "text/plain": [
       "90"
      ]
     },
     "execution_count": 22,
     "metadata": {},
     "output_type": "execute_result"
    }
   ],
   "source": [
    "a=45\n",
    "b=45\n",
    "a+b"
   ]
  },
  {
   "cell_type": "code",
   "execution_count": 23,
   "id": "e6cdf346-7c46-4476-94e6-8f5a10db0e0e",
   "metadata": {},
   "outputs": [
    {
     "data": {
      "text/plain": [
       "2025"
      ]
     },
     "execution_count": 23,
     "metadata": {},
     "output_type": "execute_result"
    }
   ],
   "source": [
    "a*b"
   ]
  },
  {
   "cell_type": "code",
   "execution_count": 24,
   "id": "b16f47ee-2806-4604-81f3-723256041c7e",
   "metadata": {},
   "outputs": [
    {
     "data": {
      "text/plain": [
       "1.0"
      ]
     },
     "execution_count": 24,
     "metadata": {},
     "output_type": "execute_result"
    }
   ],
   "source": [
    "a/b"
   ]
  },
  {
   "cell_type": "code",
   "execution_count": 25,
   "id": "452330da-a711-4fbd-8ac1-cb8dd95d507b",
   "metadata": {},
   "outputs": [
    {
     "data": {
      "text/plain": [
       "0"
      ]
     },
     "execution_count": 25,
     "metadata": {},
     "output_type": "execute_result"
    }
   ],
   "source": [
    "a-b"
   ]
  },
  {
   "cell_type": "code",
   "execution_count": 26,
   "id": "026a262f-97a7-49dc-9544-fa5d19304e67",
   "metadata": {},
   "outputs": [
    {
     "data": {
      "text/plain": [
       "1.0"
      ]
     },
     "execution_count": 26,
     "metadata": {},
     "output_type": "execute_result"
    }
   ],
   "source": [
    "45/45"
   ]
  },
  {
   "cell_type": "markdown",
   "id": "3bc09b29-d359-48f1-bee5-f6b4b97391ca",
   "metadata": {},
   "source": [
    "for reusability we will create a variable and to prepare a reference"
   ]
  },
  {
   "cell_type": "code",
   "execution_count": 27,
   "id": "6fcb8d36-5915-4690-b372-40fd8a589e25",
   "metadata": {},
   "outputs": [],
   "source": [
    "a,b=45,45 #created in single line"
   ]
  },
  {
   "cell_type": "code",
   "execution_count": 28,
   "id": "da440fef-329f-4e86-a10f-9c9534c0bb3d",
   "metadata": {},
   "outputs": [
    {
     "data": {
      "text/plain": [
       "90"
      ]
     },
     "execution_count": 28,
     "metadata": {},
     "output_type": "execute_result"
    }
   ],
   "source": [
    "a+b"
   ]
  },
  {
   "cell_type": "code",
   "execution_count": 29,
   "id": "b34cb1fd-5715-44c2-8338-3a67027e3916",
   "metadata": {},
   "outputs": [
    {
     "data": {
      "text/plain": [
       "3"
      ]
     },
     "execution_count": 29,
     "metadata": {},
     "output_type": "execute_result"
    }
   ],
   "source": [
    "a,b,c,d=3,\"vamshi\",3.0,True\n",
    "a"
   ]
  },
  {
   "cell_type": "code",
   "execution_count": 30,
   "id": "713dcfef-6dd5-45de-8862-9662d4dba1e6",
   "metadata": {},
   "outputs": [
    {
     "data": {
      "text/plain": [
       "True"
      ]
     },
     "execution_count": 30,
     "metadata": {},
     "output_type": "execute_result"
    }
   ],
   "source": [
    "d"
   ]
  },
  {
   "cell_type": "code",
   "execution_count": 31,
   "id": "b0a2efb3-8b03-4594-b45b-3f1017c979b4",
   "metadata": {},
   "outputs": [
    {
     "data": {
      "text/plain": [
       "3.0"
      ]
     },
     "execution_count": 31,
     "metadata": {},
     "output_type": "execute_result"
    }
   ],
   "source": [
    "c"
   ]
  },
  {
   "cell_type": "code",
   "execution_count": 32,
   "id": "8375de4a-8f52-481b-95a8-52c9d1db0ac2",
   "metadata": {},
   "outputs": [
    {
     "data": {
      "text/plain": [
       "'vamshi'"
      ]
     },
     "execution_count": 32,
     "metadata": {},
     "output_type": "execute_result"
    }
   ],
   "source": [
    "b"
   ]
  },
  {
   "cell_type": "code",
   "execution_count": 33,
   "id": "f331aeeb-d320-44c6-9500-555bd8527395",
   "metadata": {},
   "outputs": [
    {
     "name": "stderr",
     "output_type": "stream",
     "text": [
      "UsageError: Line magic function `%a=2` not found.\n"
     ]
    }
   ],
   "source": [
    "%a=2 #% is special characters ,not allowed before variable names,some special characters"
   ]
  },
  {
   "cell_type": "code",
   "execution_count": 34,
   "id": "b36ac9d7-130e-45a3-9857-2924fec05d71",
   "metadata": {},
   "outputs": [
    {
     "ename": "SyntaxError",
     "evalue": "invalid decimal literal (3549201538.py, line 1)",
     "output_type": "error",
     "traceback": [
      "\u001b[0;36m  Cell \u001b[0;32mIn[34], line 1\u001b[0;36m\u001b[0m\n\u001b[0;31m    2a=234\u001b[0m\n\u001b[0m    ^\u001b[0m\n\u001b[0;31mSyntaxError\u001b[0m\u001b[0;31m:\u001b[0m invalid decimal literal\n"
     ]
    }
   ],
   "source": [
    "2a=234"
   ]
  },
  {
   "cell_type": "code",
   "execution_count": 35,
   "id": "e0830acf-9749-4fd9-9b3d-2b9835689fe0",
   "metadata": {},
   "outputs": [],
   "source": [
    "_a=2"
   ]
  },
  {
   "cell_type": "code",
   "execution_count": 36,
   "id": "837b45fc-d31c-49c3-82cf-0f486bc82c3c",
   "metadata": {},
   "outputs": [
    {
     "data": {
      "text/plain": [
       "int"
      ]
     },
     "execution_count": 36,
     "metadata": {},
     "output_type": "execute_result"
    }
   ],
   "source": [
    "type(_a)"
   ]
  },
  {
   "cell_type": "code",
   "execution_count": 37,
   "id": "fef6ff36-6add-4920-888c-50d0519dc3f4",
   "metadata": {},
   "outputs": [
    {
     "ename": "SyntaxError",
     "evalue": "cannot assign to expression here. Maybe you meant '==' instead of '='? (1417256444.py, line 1)",
     "output_type": "error",
     "traceback": [
      "\u001b[0;36m  Cell \u001b[0;32mIn[37], line 1\u001b[0;36m\u001b[0m\n\u001b[0;31m    -b=2\u001b[0m\n\u001b[0m    ^\u001b[0m\n\u001b[0;31mSyntaxError\u001b[0m\u001b[0;31m:\u001b[0m cannot assign to expression here. Maybe you meant '==' instead of '='?\n"
     ]
    }
   ],
   "source": [
    "-b=2\n",
    "type(-b)"
   ]
  },
  {
   "cell_type": "code",
   "execution_count": 38,
   "id": "7ff0639c-17cc-4f4f-822f-6630976312d9",
   "metadata": {},
   "outputs": [
    {
     "ename": "SyntaxError",
     "evalue": "cannot assign to True (3210932184.py, line 1)",
     "output_type": "error",
     "traceback": [
      "\u001b[0;36m  Cell \u001b[0;32mIn[38], line 1\u001b[0;36m\u001b[0m\n\u001b[0;31m    True =2 #true is a reserved keyword\u001b[0m\n\u001b[0m    ^\u001b[0m\n\u001b[0;31mSyntaxError\u001b[0m\u001b[0;31m:\u001b[0m cannot assign to True\n"
     ]
    }
   ],
   "source": [
    "True =2 #true is a reserved keyword"
   ]
  },
  {
   "cell_type": "code",
   "execution_count": 39,
   "id": "b696f9d5-124c-42f0-b216-28520094b72a",
   "metadata": {},
   "outputs": [],
   "source": [
    "int=2#some reserved keyword will run successfully"
   ]
  },
  {
   "cell_type": "code",
   "execution_count": 40,
   "id": "25ac4f59-d182-4d94-b136-535223c6fce9",
   "metadata": {},
   "outputs": [],
   "source": [
    "b1=True #system will consider true as 1"
   ]
  },
  {
   "cell_type": "code",
   "execution_count": 41,
   "id": "fb3327d5-fd81-40a4-a2d2-459f79131ec6",
   "metadata": {},
   "outputs": [],
   "source": [
    "b2=False#false as 0"
   ]
  },
  {
   "cell_type": "code",
   "execution_count": 42,
   "id": "07d5d43a-cd1b-422f-a037-57ceb11006b4",
   "metadata": {},
   "outputs": [
    {
     "data": {
      "text/plain": [
       "1"
      ]
     },
     "execution_count": 42,
     "metadata": {},
     "output_type": "execute_result"
    }
   ],
   "source": [
    "b1-b2 #1-0=1"
   ]
  },
  {
   "cell_type": "code",
   "execution_count": 43,
   "id": "b542572e-7a01-4c6a-9fa1-edad36298fa4",
   "metadata": {},
   "outputs": [
    {
     "data": {
      "text/plain": [
       "0"
      ]
     },
     "execution_count": 43,
     "metadata": {},
     "output_type": "execute_result"
    }
   ],
   "source": [
    "b1*b2"
   ]
  },
  {
   "cell_type": "code",
   "execution_count": 44,
   "id": "38367a7e-4b0d-4de0-838b-99f42e324b6e",
   "metadata": {},
   "outputs": [
    {
     "ename": "ZeroDivisionError",
     "evalue": "division by zero",
     "output_type": "error",
     "traceback": [
      "\u001b[0;31m---------------------------------------------------------------------------\u001b[0m",
      "\u001b[0;31mZeroDivisionError\u001b[0m                         Traceback (most recent call last)",
      "Cell \u001b[0;32mIn[44], line 1\u001b[0m\n\u001b[0;32m----> 1\u001b[0m \u001b[43mb1\u001b[49m\u001b[38;5;241;43m/\u001b[39;49m\u001b[43mb2\u001b[49m    \u001b[38;5;66;03m#zero division error in python core but in numpy it will give\u001b[39;00m\n\u001b[1;32m      2\u001b[0m \u001b[38;5;66;03m#infinity\u001b[39;00m\n",
      "\u001b[0;31mZeroDivisionError\u001b[0m: division by zero"
     ]
    }
   ],
   "source": [
    "b1/b2    #zero division error in python core but in numpy it will give\n",
    "#infinity"
   ]
  },
  {
   "cell_type": "code",
   "execution_count": null,
   "id": "1e1189e6-9bec-41eb-b9fe-b024b099e1de",
   "metadata": {},
   "outputs": [],
   "source": [
    "s1 = \"my name is vamshi\""
   ]
  },
  {
   "cell_type": "code",
   "execution_count": 45,
   "id": "cdb0a28d-ca18-4a5b-a747-d1cb903c020f",
   "metadata": {},
   "outputs": [
    {
     "data": {
      "text/plain": [
       "'this is my first python code'"
      ]
     },
     "execution_count": 45,
     "metadata": {},
     "output_type": "execute_result"
    }
   ],
   "source": [
    "s1\n"
   ]
  },
  {
   "cell_type": "code",
   "execution_count": 46,
   "id": "45b5d813-a355-4718-8a73-13b05f4a9a7b",
   "metadata": {},
   "outputs": [
    {
     "data": {
      "text/plain": [
       "str"
      ]
     },
     "execution_count": 46,
     "metadata": {},
     "output_type": "execute_result"
    }
   ],
   "source": [
    "type(s1)"
   ]
  },
  {
   "cell_type": "code",
   "execution_count": 47,
   "id": "68c94c68-16e1-4ab7-acf8-ce3719f1aa3b",
   "metadata": {},
   "outputs": [
    {
     "ename": "SyntaxError",
     "evalue": "unterminated string literal (detected at line 1) (2763309318.py, line 1)",
     "output_type": "error",
     "traceback": [
      "\u001b[0;36m  Cell \u001b[0;32mIn[47], line 1\u001b[0;36m\u001b[0m\n\u001b[0;31m    s2 = 'this is my first python class for data science masters's'\u001b[0m\n\u001b[0m                                                                  ^\u001b[0m\n\u001b[0;31mSyntaxError\u001b[0m\u001b[0;31m:\u001b[0m unterminated string literal (detected at line 1)\n"
     ]
    }
   ],
   "source": [
    "s2 = 'this is my first python class for data science masters's'"
   ]
  },
  {
   "cell_type": "code",
   "execution_count": 48,
   "id": "f2593821-8cbd-4d2f-8d7f-9a20fd1d1054",
   "metadata": {},
   "outputs": [],
   "source": [
    "s2 = \"this is my first python class for data science masters's\"\n",
    "#to use single  codes internally"
   ]
  },
  {
   "cell_type": "code",
   "execution_count": 49,
   "id": "81734558-adc4-4b5d-866a-807c1cbae14d",
   "metadata": {},
   "outputs": [
    {
     "data": {
      "text/plain": [
       "\"this is my first python class for data science masters's\""
      ]
     },
     "execution_count": 49,
     "metadata": {},
     "output_type": "execute_result"
    }
   ],
   "source": [
    "s2"
   ]
  },
  {
   "cell_type": "code",
   "execution_count": 50,
   "id": "1e79e717-bee4-47f6-b817-6ae3cddac037",
   "metadata": {},
   "outputs": [],
   "source": [
    "#this is my code to create a string variable with quotes\n",
    "s3= 'to use double code\"s internally'"
   ]
  },
  {
   "cell_type": "code",
   "execution_count": 51,
   "id": "3f4c7474-c28e-4368-b6a4-aec16eab1ee9",
   "metadata": {},
   "outputs": [
    {
     "data": {
      "text/plain": [
       "'to use double code\"s internally'"
      ]
     },
     "execution_count": 51,
     "metadata": {},
     "output_type": "execute_result"
    }
   ],
   "source": [
    "s3"
   ]
  },
  {
   "cell_type": "code",
   "execution_count": 52,
   "id": "00828d42-aed8-4ad0-87da-6e85fd3d83ee",
   "metadata": {},
   "outputs": [],
   "source": [
    "#this is my first python class ash used for single line comment\n",
    "'''i am trying to learn variable declaration\n",
    "so far i have learnt int, boolean, string, complex number, float variable declaration'''\n",
    "a = 10"
   ]
  },
  {
   "cell_type": "code",
   "execution_count": 53,
   "id": "1ae7d7d4-8c41-490a-ae61-4e7b442d65cc",
   "metadata": {},
   "outputs": [
    {
     "data": {
      "text/plain": [
       "10"
      ]
     },
     "execution_count": 53,
     "metadata": {},
     "output_type": "execute_result"
    }
   ],
   "source": [
    "a"
   ]
  },
  {
   "cell_type": "code",
   "execution_count": 54,
   "id": "f26beb2f-0954-402c-8edd-33c1f1fd09d5",
   "metadata": {},
   "outputs": [
    {
     "ename": "TypeError",
     "evalue": "can only concatenate str (not \"int\") to str",
     "output_type": "error",
     "traceback": [
      "\u001b[0;31m---------------------------------------------------------------------------\u001b[0m",
      "\u001b[0;31mTypeError\u001b[0m                                 Traceback (most recent call last)",
      "Cell \u001b[0;32mIn[54], line 4\u001b[0m\n\u001b[1;32m      2\u001b[0m s1\u001b[38;5;241m=\u001b[39m\u001b[38;5;124m\"\u001b[39m\u001b[38;5;124mvamshi\u001b[39m\u001b[38;5;124m\"\u001b[39m\n\u001b[1;32m      3\u001b[0m a\u001b[38;5;241m=\u001b[39m\u001b[38;5;241m10\u001b[39m\n\u001b[0;32m----> 4\u001b[0m \u001b[43ms1\u001b[49m\u001b[38;5;241;43m+\u001b[39;49m\u001b[43ma\u001b[49m\n",
      "\u001b[0;31mTypeError\u001b[0m: can only concatenate str (not \"int\") to str"
     ]
    }
   ],
   "source": [
    "#string\n",
    "s1=\"vamshi\"\n",
    "a=10\n",
    "s1+a"
   ]
  },
  {
   "cell_type": "code",
   "execution_count": 55,
   "id": "3fe83548-322e-48ad-8f7d-d887cd90524d",
   "metadata": {},
   "outputs": [
    {
     "data": {
      "text/plain": [
       "'vamshi10'"
      ]
     },
     "execution_count": 55,
     "metadata": {},
     "output_type": "execute_result"
    }
   ],
   "source": [
    "a=\"10\" or str(a) #type casting\n",
    "s1+a"
   ]
  },
  {
   "cell_type": "code",
   "execution_count": 56,
   "id": "9d7c997d-e97d-4997-aa13-ab0d9bf0242e",
   "metadata": {},
   "outputs": [
    {
     "data": {
      "text/plain": [
       "'vamshikrishna'"
      ]
     },
     "execution_count": 56,
     "metadata": {},
     "output_type": "execute_result"
    }
   ],
   "source": [
    "\"vamshi\"+\"krishna\" #concatinate two strings"
   ]
  },
  {
   "cell_type": "code",
   "execution_count": 57,
   "id": "285dd0d4-0560-45d1-94a0-04635d161b00",
   "metadata": {},
   "outputs": [],
   "source": [
    "#string + integer concatination not possible\n",
    "#for concatination data types must same"
   ]
  },
  {
   "cell_type": "code",
   "execution_count": 58,
   "id": "30ab4b8d-7f46-45aa-a0c7-2fef96bdf4c3",
   "metadata": {},
   "outputs": [
    {
     "data": {
      "text/plain": [
       "'        vams  hi    10'"
      ]
     },
     "execution_count": 58,
     "metadata": {},
     "output_type": "execute_result"
    }
   ],
   "source": [
    "\"        vams  hi    \" + \"10\""
   ]
  },
  {
   "cell_type": "code",
   "execution_count": 59,
   "id": "1bbcc29f-3064-461a-8d27-42a18ee670d8",
   "metadata": {},
   "outputs": [
    {
     "data": {
      "text/plain": [
       "'vamshi 100'"
      ]
     },
     "execution_count": 59,
     "metadata": {},
     "output_type": "execute_result"
    }
   ],
   "source": [
    "\"vamshi\"+' '+str(100)"
   ]
  },
  {
   "cell_type": "code",
   "execution_count": 60,
   "id": "df3a7e05-1c91-4cbe-8c1d-e56535c5d3b5",
   "metadata": {},
   "outputs": [],
   "source": [
    "#type casting=converting one type into another ex;int to str"
   ]
  },
  {
   "cell_type": "code",
   "execution_count": 61,
   "id": "1c9146c6-374a-47f2-a3d6-9b827777d135",
   "metadata": {},
   "outputs": [
    {
     "ename": "TypeError",
     "evalue": "'int' object is not callable",
     "output_type": "error",
     "traceback": [
      "\u001b[0;31m---------------------------------------------------------------------------\u001b[0m",
      "\u001b[0;31mTypeError\u001b[0m                                 Traceback (most recent call last)",
      "Cell \u001b[0;32mIn[61], line 1\u001b[0m\n\u001b[0;32m----> 1\u001b[0m \u001b[38;5;28;43mint\u001b[39;49m\u001b[43m(\u001b[49m\u001b[38;5;124;43m\"\u001b[39;49m\u001b[38;5;124;43mvamshi\u001b[39;49m\u001b[38;5;124;43m\"\u001b[39;49m\u001b[43m)\u001b[49m \u001b[38;5;241m+\u001b[39m\u001b[38;5;241m10\u001b[39m\u001b[38;5;66;03m#error bcz we used reserved keyword as variable name\u001b[39;00m\n",
      "\u001b[0;31mTypeError\u001b[0m: 'int' object is not callable"
     ]
    }
   ],
   "source": [
    "int(\"vamshi\") +10#error bcz we used reserved keyword as variable name"
   ]
  },
  {
   "cell_type": "code",
   "execution_count": 62,
   "id": "4190aa9f-ec16-413c-a95a-24d6c3b5d01b",
   "metadata": {},
   "outputs": [],
   "source": [
    "b='10'"
   ]
  },
  {
   "cell_type": "code",
   "execution_count": 63,
   "id": "c2fdc0b8-3398-4f98-a021-8a695bcf5fa8",
   "metadata": {},
   "outputs": [
    {
     "data": {
      "text/plain": [
       "'10'"
      ]
     },
     "execution_count": 63,
     "metadata": {},
     "output_type": "execute_result"
    }
   ],
   "source": [
    "b"
   ]
  },
  {
   "cell_type": "code",
   "execution_count": 64,
   "id": "cbf31979-1c86-461c-8275-34e2a16099b5",
   "metadata": {},
   "outputs": [
    {
     "ename": "TypeError",
     "evalue": "'int' object is not callable",
     "output_type": "error",
     "traceback": [
      "\u001b[0;31m---------------------------------------------------------------------------\u001b[0m",
      "\u001b[0;31mTypeError\u001b[0m                                 Traceback (most recent call last)",
      "Cell \u001b[0;32mIn[64], line 1\u001b[0m\n\u001b[0;32m----> 1\u001b[0m \u001b[38;5;28;43mint\u001b[39;49m\u001b[43m(\u001b[49m\u001b[43mb\u001b[49m\u001b[43m)\u001b[49m\n",
      "\u001b[0;31mTypeError\u001b[0m: 'int' object is not callable"
     ]
    }
   ],
   "source": [
    "int(b)"
   ]
  },
  {
   "cell_type": "code",
   "execution_count": 65,
   "id": "98022592-986f-491d-99bc-c3358d4d040b",
   "metadata": {},
   "outputs": [
    {
     "ename": "TypeError",
     "evalue": "'int' object is not callable",
     "output_type": "error",
     "traceback": [
      "\u001b[0;31m---------------------------------------------------------------------------\u001b[0m",
      "\u001b[0;31mTypeError\u001b[0m                                 Traceback (most recent call last)",
      "Cell \u001b[0;32mIn[65], line 1\u001b[0m\n\u001b[0;32m----> 1\u001b[0m \u001b[38;5;28mtype\u001b[39m(\u001b[38;5;28;43mint\u001b[39;49m\u001b[43m(\u001b[49m\u001b[43mb\u001b[49m\u001b[43m)\u001b[49m)\n",
      "\u001b[0;31mTypeError\u001b[0m: 'int' object is not callable"
     ]
    }
   ],
   "source": [
    "type(int(b))"
   ]
  },
  {
   "cell_type": "code",
   "execution_count": 66,
   "id": "0ef2c79d-eb92-4448-841d-9bfd56dd0c83",
   "metadata": {},
   "outputs": [],
   "source": [
    "s=\"vamshi\""
   ]
  },
  {
   "cell_type": "code",
   "execution_count": 67,
   "id": "6e0085a6-c30c-4a68-8251-6b73520bde58",
   "metadata": {},
   "outputs": [
    {
     "ename": "TypeError",
     "evalue": "'int' object is not callable",
     "output_type": "error",
     "traceback": [
      "\u001b[0;31m---------------------------------------------------------------------------\u001b[0m",
      "\u001b[0;31mTypeError\u001b[0m                                 Traceback (most recent call last)",
      "Cell \u001b[0;32mIn[67], line 1\u001b[0m\n\u001b[0;32m----> 1\u001b[0m \u001b[38;5;28;43mint\u001b[39;49m\u001b[43m(\u001b[49m\u001b[43ms\u001b[49m\u001b[43m)\u001b[49m \u001b[38;5;66;03m#we have characters inside so we can convert type but here character so not possible\u001b[39;00m\n",
      "\u001b[0;31mTypeError\u001b[0m: 'int' object is not callable"
     ]
    }
   ],
   "source": [
    "int(s) #we have characters inside so we can convert type but here character so not possible"
   ]
  },
  {
   "cell_type": "markdown",
   "id": "c809aba8-ee3c-46bd-ae1b-01b06ed71d35",
   "metadata": {},
   "source": [
    "#take input from user input,in real time websites\n",
    "#a=10 we are declaring but we need some times 1,2,100 etc. then we use input function\n",
    "\n"
   ]
  },
  {
   "cell_type": "code",
   "execution_count": 69,
   "id": "8077b60b-2efa-4611-9589-25f605a9e999",
   "metadata": {},
   "outputs": [
    {
     "name": "stdin",
     "output_type": "stream",
     "text": [
      " 10\n"
     ]
    }
   ],
   "source": [
    "b = input() #instead of hard coding, whenever you change ,it change whole"
   ]
  },
  {
   "cell_type": "code",
   "execution_count": 70,
   "id": "55ff1267-45ef-4b3d-b884-93a4e81f9c6f",
   "metadata": {},
   "outputs": [
    {
     "data": {
      "text/plain": [
       "'10'"
      ]
     },
     "execution_count": 70,
     "metadata": {},
     "output_type": "execute_result"
    }
   ],
   "source": [
    "b"
   ]
  },
  {
   "cell_type": "code",
   "execution_count": 71,
   "id": "1df362ed-dbc1-4022-b888-4c6d62488a9e",
   "metadata": {},
   "outputs": [
    {
     "data": {
      "text/plain": [
       "str"
      ]
     },
     "execution_count": 71,
     "metadata": {},
     "output_type": "execute_result"
    }
   ],
   "source": [
    "type(b) #but input function always give output as string"
   ]
  },
  {
   "cell_type": "code",
   "execution_count": 73,
   "id": "9963a044-6a0c-406f-a75d-83d698e11623",
   "metadata": {},
   "outputs": [
    {
     "name": "stdin",
     "output_type": "stream",
     "text": [
      " 3\n"
     ]
    },
    {
     "ename": "TypeError",
     "evalue": "'int' object is not callable",
     "output_type": "error",
     "traceback": [
      "\u001b[0;31m---------------------------------------------------------------------------\u001b[0m",
      "\u001b[0;31mTypeError\u001b[0m                                 Traceback (most recent call last)",
      "Cell \u001b[0;32mIn[73], line 1\u001b[0m\n\u001b[0;32m----> 1\u001b[0m b\u001b[38;5;241m=\u001b[39m\u001b[38;5;28;43mint\u001b[39;49m\u001b[43m(\u001b[49m\u001b[38;5;28;43minput\u001b[39;49m\u001b[43m(\u001b[49m\u001b[43m)\u001b[49m\u001b[43m)\u001b[49m \u001b[38;5;66;03m#we need declare type or type cast\u001b[39;00m\n",
      "\u001b[0;31mTypeError\u001b[0m: 'int' object is not callable"
     ]
    }
   ],
   "source": [
    "b=int(input()) #we need declare type or type cast"
   ]
  },
  {
   "cell_type": "code",
   "execution_count": 74,
   "id": "fe8e2b74-b7a9-4bad-aaaa-4533d5ca62e3",
   "metadata": {},
   "outputs": [
    {
     "data": {
      "text/plain": [
       "'10'"
      ]
     },
     "execution_count": 74,
     "metadata": {},
     "output_type": "execute_result"
    }
   ],
   "source": [
    "b or int(b)"
   ]
  },
  {
   "cell_type": "code",
   "execution_count": 75,
   "id": "71f7ddd7-1749-415f-b731-ae943e3dbce6",
   "metadata": {},
   "outputs": [
    {
     "data": {
      "text/plain": [
       "str"
      ]
     },
     "execution_count": 75,
     "metadata": {},
     "output_type": "execute_result"
    }
   ],
   "source": [
    "type(b) or type(int(b))\n"
   ]
  },
  {
   "cell_type": "code",
   "execution_count": 77,
   "id": "61817071-9d7b-49d0-81a8-da32e725e518",
   "metadata": {},
   "outputs": [
    {
     "name": "stdin",
     "output_type": "stream",
     "text": [
      " 1\n"
     ]
    }
   ],
   "source": [
    "a=float(input())"
   ]
  },
  {
   "cell_type": "code",
   "execution_count": 78,
   "id": "80ccc32c-63e9-4a42-b9be-c57fb4ecc612",
   "metadata": {},
   "outputs": [
    {
     "data": {
      "text/plain": [
       "1.0"
      ]
     },
     "execution_count": 78,
     "metadata": {},
     "output_type": "execute_result"
    }
   ],
   "source": [
    "a"
   ]
  },
  {
   "cell_type": "code",
   "execution_count": 79,
   "id": "72c49bbe-622a-4892-8f44-f790a94d6c60",
   "metadata": {},
   "outputs": [
    {
     "name": "stdin",
     "output_type": "stream",
     "text": [
      " True\n"
     ]
    }
   ],
   "source": [
    "a=bool(input())"
   ]
  },
  {
   "cell_type": "code",
   "execution_count": 80,
   "id": "0252f9f0-7c23-4b71-b53c-f1a5293e8af3",
   "metadata": {},
   "outputs": [
    {
     "data": {
      "text/plain": [
       "bool"
      ]
     },
     "execution_count": 80,
     "metadata": {},
     "output_type": "execute_result"
    }
   ],
   "source": [
    "type(a)"
   ]
  },
  {
   "cell_type": "code",
   "execution_count": 81,
   "id": "b9f2703c-f23b-4503-9c40-1af7ce0327bb",
   "metadata": {},
   "outputs": [
    {
     "data": {
      "text/plain": [
       "True"
      ]
     },
     "execution_count": 81,
     "metadata": {},
     "output_type": "execute_result"
    }
   ],
   "source": [
    "a"
   ]
  },
  {
   "cell_type": "markdown",
   "id": "91fb4ce5-472d-4461-b501-20f0ea67c4e2",
   "metadata": {},
   "source": [
    "slicing or indexing forward indexijng 0 1 2 3....  backward -1 -2 -3 ... we can access any series of characters we can solve"
   ]
  },
  {
   "cell_type": "code",
   "execution_count": 82,
   "id": "3077240e-c994-4bc5-b184-dcf66a1a4181",
   "metadata": {},
   "outputs": [
    {
     "data": {
      "text/plain": [
       "'vamshi'"
      ]
     },
     "execution_count": 82,
     "metadata": {},
     "output_type": "execute_result"
    }
   ],
   "source": [
    "s=\"vamshi\"\n",
    "#slicing or indexing\n",
    "s[0:]"
   ]
  },
  {
   "cell_type": "code",
   "execution_count": 83,
   "id": "d85301f9-49a2-49c4-8be2-e2bf9f25afbf",
   "metadata": {},
   "outputs": [
    {
     "data": {
      "text/plain": [
       "'v'"
      ]
     },
     "execution_count": 83,
     "metadata": {},
     "output_type": "execute_result"
    }
   ],
   "source": [
    "s[0]"
   ]
  },
  {
   "cell_type": "code",
   "execution_count": 84,
   "id": "b2e5e55f-9aa8-4469-b086-31d79c1750cb",
   "metadata": {},
   "outputs": [
    {
     "ename": "IndexError",
     "evalue": "string index out of range",
     "output_type": "error",
     "traceback": [
      "\u001b[0;31m---------------------------------------------------------------------------\u001b[0m",
      "\u001b[0;31mIndexError\u001b[0m                                Traceback (most recent call last)",
      "Cell \u001b[0;32mIn[84], line 1\u001b[0m\n\u001b[0;32m----> 1\u001b[0m \u001b[43ms\u001b[49m\u001b[43m[\u001b[49m\u001b[38;5;241;43m100\u001b[39;49m\u001b[43m]\u001b[49m\n",
      "\u001b[0;31mIndexError\u001b[0m: string index out of range"
     ]
    }
   ],
   "source": [
    "s[100]"
   ]
  },
  {
   "cell_type": "code",
   "execution_count": 85,
   "id": "fd0b0718-afb5-4675-9456-94041dd95b1e",
   "metadata": {},
   "outputs": [
    {
     "data": {
      "text/plain": [
       "'i'"
      ]
     },
     "execution_count": 85,
     "metadata": {},
     "output_type": "execute_result"
    }
   ],
   "source": [
    "s[-1]"
   ]
  },
  {
   "cell_type": "code",
   "execution_count": 86,
   "id": "ca4c7866-a422-4172-81a2-81aac81225ea",
   "metadata": {},
   "outputs": [
    {
     "ename": "IndexError",
     "evalue": "string index out of range",
     "output_type": "error",
     "traceback": [
      "\u001b[0;31m---------------------------------------------------------------------------\u001b[0m",
      "\u001b[0;31mIndexError\u001b[0m                                Traceback (most recent call last)",
      "Cell \u001b[0;32mIn[86], line 1\u001b[0m\n\u001b[0;32m----> 1\u001b[0m \u001b[43ms\u001b[49m\u001b[43m[\u001b[49m\u001b[38;5;241;43m-\u001b[39;49m\u001b[38;5;241;43m135\u001b[39;49m\u001b[43m]\u001b[49m   \u001b[38;5;66;03m#index unknown index doest work\u001b[39;00m\n",
      "\u001b[0;31mIndexError\u001b[0m: string index out of range"
     ]
    }
   ],
   "source": [
    "s[-135]   #index unknown index doest work"
   ]
  },
  {
   "cell_type": "code",
   "execution_count": 87,
   "id": "06b607fc-6684-4b58-94ce-3b2b735fde24",
   "metadata": {},
   "outputs": [],
   "source": [
    "s1=\"pwskills\""
   ]
  },
  {
   "cell_type": "code",
   "execution_count": 88,
   "id": "1c52f0e1-17dd-45df-8d23-3387656de71d",
   "metadata": {},
   "outputs": [
    {
     "data": {
      "text/plain": [
       "'pw'"
      ]
     },
     "execution_count": 88,
     "metadata": {},
     "output_type": "execute_result"
    }
   ],
   "source": [
    "s1[0:2] #slicing should give next index pw 01 but you need to give 0:2   0 is the start point and 2 is the till end, always give upper bound -1"
   ]
  },
  {
   "cell_type": "code",
   "execution_count": 89,
   "id": "dfed5ba7-4f18-490f-af3e-ed25175bcd6c",
   "metadata": {},
   "outputs": [
    {
     "data": {
      "text/plain": [
       "'skills'"
      ]
     },
     "execution_count": 89,
     "metadata": {},
     "output_type": "execute_result"
    }
   ],
   "source": [
    "s1[-6:]"
   ]
  },
  {
   "cell_type": "code",
   "execution_count": 90,
   "id": "3bb00c6e-8fbc-4276-8a99-13b37ec40005",
   "metadata": {},
   "outputs": [
    {
     "data": {
      "text/plain": [
       "'skill'"
      ]
     },
     "execution_count": 90,
     "metadata": {},
     "output_type": "execute_result"
    }
   ],
   "source": [
    "s1[2:7]"
   ]
  },
  {
   "cell_type": "code",
   "execution_count": 91,
   "id": "ac4fcaf9-ce1b-4bbb-aabf-33e74968a97c",
   "metadata": {},
   "outputs": [
    {
     "data": {
      "text/plain": [
       "'skills'"
      ]
     },
     "execution_count": 91,
     "metadata": {},
     "output_type": "execute_result"
    }
   ],
   "source": [
    "s1[2:8] #slicing can work if you can give unknown index or index does not exist"
   ]
  },
  {
   "cell_type": "code",
   "execution_count": 92,
   "id": "a754ab55-cebb-4ef7-8101-277aa3cd7302",
   "metadata": {},
   "outputs": [
    {
     "data": {
      "text/plain": [
       "'skills'"
      ]
     },
     "execution_count": 92,
     "metadata": {},
     "output_type": "execute_result"
    }
   ],
   "source": [
    "s1[2:800]"
   ]
  },
  {
   "cell_type": "code",
   "execution_count": 93,
   "id": "87ed24bf-4500-4061-a3ed-ee5479a29adf",
   "metadata": {},
   "outputs": [
    {
     "data": {
      "text/plain": [
       "'skills'"
      ]
     },
     "execution_count": 93,
     "metadata": {},
     "output_type": "execute_result"
    }
   ],
   "source": [
    "s1[2:]"
   ]
  },
  {
   "cell_type": "code",
   "execution_count": 94,
   "id": "90f3f6d4-f6e8-4b2d-8ad2-b54af69ed58e",
   "metadata": {},
   "outputs": [
    {
     "data": {
      "text/plain": [
       "'pwskill'"
      ]
     },
     "execution_count": 94,
     "metadata": {},
     "output_type": "execute_result"
    }
   ],
   "source": [
    "s1[0:7]"
   ]
  },
  {
   "cell_type": "code",
   "execution_count": 95,
   "id": "930c31a4-7d1e-4daf-8dbb-e90d5d036f96",
   "metadata": {},
   "outputs": [
    {
     "data": {
      "text/plain": [
       "'psil'"
      ]
     },
     "execution_count": 95,
     "metadata": {},
     "output_type": "execute_result"
    }
   ],
   "source": [
    "#looking for psil            jump or step will work\n",
    "s1[0:7:2]         #1 start 2 end 3 step"
   ]
  },
  {
   "cell_type": "code",
   "execution_count": 96,
   "id": "831e9262-bd2e-4ad9-9075-f6b3ecf48de7",
   "metadata": {},
   "outputs": [
    {
     "data": {
      "text/plain": [
       "''"
      ]
     },
     "execution_count": 96,
     "metadata": {},
     "output_type": "execute_result"
    }
   ],
   "source": [
    "# looking slli reverse      not getting output reason:\n",
    "s1[7:3:]"
   ]
  },
  {
   "cell_type": "code",
   "execution_count": 97,
   "id": "b8326188-2bf1-4e2a-8ffb-a7caba1c9b03",
   "metadata": {},
   "outputs": [
    {
     "data": {
      "text/plain": [
       "'slli'"
      ]
     },
     "execution_count": 97,
     "metadata": {},
     "output_type": "execute_result"
    }
   ],
   "source": [
    "#scaling concept \n",
    "s1[7:3:-1]"
   ]
  },
  {
   "cell_type": "code",
   "execution_count": 98,
   "id": "ad01ce39-adcf-4250-8b74-6aa6ba53ecf8",
   "metadata": {},
   "outputs": [
    {
     "data": {
      "text/plain": [
       "'slli'"
      ]
     },
     "execution_count": 98,
     "metadata": {},
     "output_type": "execute_result"
    }
   ],
   "source": [
    "s1[-1:-5:-1]"
   ]
  },
  {
   "cell_type": "code",
   "execution_count": 99,
   "id": "1998fd62-0e7d-4880-bdfa-9ae5e2feefa8",
   "metadata": {},
   "outputs": [
    {
     "data": {
      "text/plain": [
       "'slliksw'"
      ]
     },
     "execution_count": 99,
     "metadata": {},
     "output_type": "execute_result"
    }
   ],
   "source": [
    "s1[-1:0:-1]    # reverse the string"
   ]
  },
  {
   "cell_type": "code",
   "execution_count": 100,
   "id": "33b05266-df14-4c7e-ae2c-52f2085bb1ee",
   "metadata": {},
   "outputs": [
    {
     "data": {
      "text/plain": [
       "'sllikswp'"
      ]
     },
     "execution_count": 100,
     "metadata": {},
     "output_type": "execute_result"
    }
   ],
   "source": [
    "s1[7:-9:-1]        #Scaling concept works try to draw scale "
   ]
  },
  {
   "cell_type": "code",
   "execution_count": 101,
   "id": "52c597e7-1533-4329-90e9-e6b1ff010eed",
   "metadata": {},
   "outputs": [
    {
     "data": {
      "text/plain": [
       "'sllikswp'"
      ]
     },
     "execution_count": 101,
     "metadata": {},
     "output_type": "execute_result"
    }
   ],
   "source": [
    "s1[7:-9:-1]"
   ]
  },
  {
   "cell_type": "code",
   "execution_count": 102,
   "id": "c906630d-f8a0-49a0-8822-658f8a58b32f",
   "metadata": {},
   "outputs": [
    {
     "data": {
      "text/plain": [
       "'sllikswp'"
      ]
     },
     "execution_count": 102,
     "metadata": {},
     "output_type": "execute_result"
    }
   ],
   "source": [
    "s1[-1::-1]     #empty : it will take all the data till end"
   ]
  },
  {
   "cell_type": "code",
   "execution_count": 103,
   "id": "8864b98f-ca7f-41c9-94b1-1886802aab9b",
   "metadata": {},
   "outputs": [
    {
     "data": {
      "text/plain": [
       "'sllikswp'"
      ]
     },
     "execution_count": 103,
     "metadata": {},
     "output_type": "execute_result"
    }
   ],
   "source": [
    "s1[::-1]"
   ]
  },
  {
   "cell_type": "code",
   "execution_count": 104,
   "id": "524bd380-39f5-41fb-a1a7-3a93a0d1638a",
   "metadata": {},
   "outputs": [
    {
     "data": {
      "text/plain": [
       "'pwskills'"
      ]
     },
     "execution_count": 104,
     "metadata": {},
     "output_type": "execute_result"
    }
   ],
   "source": [
    "s1"
   ]
  },
  {
   "cell_type": "code",
   "execution_count": 105,
   "id": "876c90a1-2c27-4582-9cae-5fb6f1c42cc6",
   "metadata": {},
   "outputs": [
    {
     "data": {
      "text/plain": [
       "'p'"
      ]
     },
     "execution_count": 105,
     "metadata": {},
     "output_type": "execute_result"
    }
   ],
   "source": [
    "s1[0]"
   ]
  },
  {
   "cell_type": "code",
   "execution_count": 106,
   "id": "d5c0f852-d433-491f-938f-b6bd54bce2aa",
   "metadata": {},
   "outputs": [
    {
     "ename": "TypeError",
     "evalue": "'str' object does not support item assignment",
     "output_type": "error",
     "traceback": [
      "\u001b[0;31m---------------------------------------------------------------------------\u001b[0m",
      "\u001b[0;31mTypeError\u001b[0m                                 Traceback (most recent call last)",
      "Cell \u001b[0;32mIn[106], line 2\u001b[0m\n\u001b[1;32m      1\u001b[0m \u001b[38;5;66;03m#change value of p with something else replace\u001b[39;00m\n\u001b[0;32m----> 2\u001b[0m \u001b[43ms1\u001b[49m\u001b[43m[\u001b[49m\u001b[38;5;241;43m0\u001b[39;49m\u001b[43m]\u001b[49m \u001b[38;5;241m=\u001b[39m \u001b[38;5;124m'\u001b[39m\u001b[38;5;124ms\u001b[39m\u001b[38;5;124m'\u001b[39m               \u001b[38;5;66;03m# withn string we can t replace value ,it does not support item values\u001b[39;00m\n",
      "\u001b[0;31mTypeError\u001b[0m: 'str' object does not support item assignment"
     ]
    }
   ],
   "source": [
    "#change value of p with something else replace\n",
    "s1[0] = 's'               # withn string we can t replace value ,it does not support item values"
   ]
  },
  {
   "cell_type": "markdown",
   "id": "634926c1-9624-4b7d-aa1e-332e08edcc56",
   "metadata": {},
   "source": [
    "STRING IS IMMUTABLE"
   ]
  },
  {
   "cell_type": "code",
   "execution_count": 107,
   "id": "f1adecc6-7bd4-4ea0-be9f-2d30b438b4de",
   "metadata": {},
   "outputs": [],
   "source": [
    "#immutability - if you cant change the data at particular index,then it is IMMUT\n",
    "#mutability - we can change any data at given index"
   ]
  },
  {
   "cell_type": "markdown",
   "id": "341fef41-5857-4b20-9367-870177240b70",
   "metadata": {},
   "source": [
    "Doubts"
   ]
  },
  {
   "cell_type": "code",
   "execution_count": 109,
   "id": "4972ccdb-3a95-4424-8470-8f650a550d45",
   "metadata": {},
   "outputs": [
    {
     "name": "stdin",
     "output_type": "stream",
     "text": [
      " False\n"
     ]
    }
   ],
   "source": [
    "d=bool(input())"
   ]
  },
  {
   "cell_type": "code",
   "execution_count": 110,
   "id": "aa040318-e74f-4f02-a8d0-ad767abccbfc",
   "metadata": {},
   "outputs": [
    {
     "data": {
      "text/plain": [
       "True"
      ]
     },
     "execution_count": 110,
     "metadata": {},
     "output_type": "execute_result"
    }
   ],
   "source": [
    "d  #true bcz it is showing bool is true or false"
   ]
  },
  {
   "cell_type": "code",
   "execution_count": 111,
   "id": "988b74c5-856a-4b23-9177-160dd6abcf19",
   "metadata": {},
   "outputs": [
    {
     "data": {
      "text/plain": [
       "bool"
      ]
     },
     "execution_count": 111,
     "metadata": {},
     "output_type": "execute_result"
    }
   ],
   "source": [
    "type(d)"
   ]
  },
  {
   "cell_type": "code",
   "execution_count": 112,
   "id": "1e5f9fac-58a6-44ff-8a59-30a58598638a",
   "metadata": {},
   "outputs": [],
   "source": [
    "a=10"
   ]
  },
  {
   "cell_type": "code",
   "execution_count": 113,
   "id": "a051f27c-f361-49d7-8432-3105ec2486cb",
   "metadata": {},
   "outputs": [],
   "source": [
    "int=12333"
   ]
  },
  {
   "cell_type": "code",
   "execution_count": 114,
   "id": "63445422-fe7a-4ec4-a01f-23b780f93b05",
   "metadata": {},
   "outputs": [
    {
     "data": {
      "text/plain": [
       "12333"
      ]
     },
     "execution_count": 114,
     "metadata": {},
     "output_type": "execute_result"
    }
   ],
   "source": [
    "int"
   ]
  },
  {
   "cell_type": "code",
   "execution_count": 115,
   "id": "46b6f65d-eb24-4be1-b583-5f97dae104dc",
   "metadata": {},
   "outputs": [
    {
     "data": {
      "text/plain": [
       "int"
      ]
     },
     "execution_count": 115,
     "metadata": {},
     "output_type": "execute_result"
    }
   ],
   "source": [
    "type(a)"
   ]
  },
  {
   "cell_type": "code",
   "execution_count": 1,
   "id": "c1c2a885-cfb7-4876-99fc-63fb05f51d37",
   "metadata": {},
   "outputs": [],
   "source": [
    "z=\"12345\""
   ]
  },
  {
   "cell_type": "code",
   "execution_count": 2,
   "id": "d2edbaa0-af70-4daa-a135-2bcfe7199a80",
   "metadata": {},
   "outputs": [
    {
     "data": {
      "text/plain": [
       "12345"
      ]
     },
     "execution_count": 2,
     "metadata": {},
     "output_type": "execute_result"
    }
   ],
   "source": [
    "int(z)"
   ]
  },
  {
   "cell_type": "code",
   "execution_count": 1,
   "id": "4d090571-312e-4923-b7fb-72cdd96e1c74",
   "metadata": {},
   "outputs": [
    {
     "name": "stdout",
     "output_type": "stream",
     "text": [
      "t\n"
     ]
    }
   ],
   "source": [
    "word = \"Python\"\n",
    "\n",
    "print(word[2])"
   ]
  },
  {
   "cell_type": "code",
   "execution_count": 2,
   "id": "21fe66bc-71fc-47e4-a4a9-07de3279648f",
   "metadata": {},
   "outputs": [
    {
     "data": {
      "text/plain": [
       "6"
      ]
     },
     "execution_count": 2,
     "metadata": {},
     "output_type": "execute_result"
    }
   ],
   "source": [
    "len(\"shadab\")"
   ]
  },
  {
   "cell_type": "code",
   "execution_count": 3,
   "id": "6c5cec33-a18c-4e9d-8312-10df8d461eb4",
   "metadata": {},
   "outputs": [
    {
     "name": "stdout",
     "output_type": "stream",
     "text": [
      "World\n"
     ]
    }
   ],
   "source": [
    "text = \"Hello, World!\"\n",
    "\n",
    "print(text[7:12])"
   ]
  },
  {
   "cell_type": "code",
   "execution_count": 4,
   "id": "9334bb77-de0d-4b06-a50c-5ad6bfb15615",
   "metadata": {},
   "outputs": [
    {
     "name": "stdout",
     "output_type": "stream",
     "text": [
      "PythonPythonPython\n"
     ]
    }
   ],
   "source": [
    "word = \"Python\"\n",
    "\n",
    "repeated_word = word * 3\n",
    "\n",
    "print(repeated_word)\n"
   ]
  },
  {
   "cell_type": "code",
   "execution_count": 5,
   "id": "73741134-88ee-4739-bb33-7cab2c8d8847",
   "metadata": {},
   "outputs": [
    {
     "name": "stdout",
     "output_type": "stream",
     "text": [
      "Python\n"
     ]
    }
   ],
   "source": [
    "word = \"python\"\n",
    "\n",
    "capitalized_word = word.capitalize()\n",
    "\n",
    "print(capitalized_word)"
   ]
  },
  {
   "cell_type": "code",
   "execution_count": 6,
   "id": "4ecd08d5-2a76-4108-9b23-b1d20f85aa63",
   "metadata": {},
   "outputs": [
    {
     "name": "stdout",
     "output_type": "stream",
     "text": [
      "Hello, World!\n"
     ]
    }
   ],
   "source": [
    "text = \"   Hello, World!   \"\n",
    "\n",
    "trimmed_text = text.strip()\n",
    "\n",
    "print(trimmed_text)"
   ]
  },
  {
   "cell_type": "code",
   "execution_count": 7,
   "id": "4293bf56-9690-43c3-92aa-a86afc54e8f6",
   "metadata": {},
   "outputs": [
    {
     "name": "stdout",
     "output_type": "stream",
     "text": [
      "Python Programming\n"
     ]
    }
   ],
   "source": [
    "string1 = \"Python\"\n",
    "\n",
    "string2 = \"Programming\"\n",
    "\n",
    "result = string1 + \" \" + string2\n",
    "\n",
    "print(result)"
   ]
  },
  {
   "cell_type": "code",
   "execution_count": null,
   "id": "d677d7b1-5927-4ecf-a633-4ff473c5f491",
   "metadata": {},
   "outputs": [],
   "source": []
  }
 ],
 "metadata": {
  "kernelspec": {
   "display_name": "Python 3 (ipykernel)",
   "language": "python",
   "name": "python3"
  },
  "language_info": {
   "codemirror_mode": {
    "name": "ipython",
    "version": 3
   },
   "file_extension": ".py",
   "mimetype": "text/x-python",
   "name": "python",
   "nbconvert_exporter": "python",
   "pygments_lexer": "ipython3",
   "version": "3.10.8"
  }
 },
 "nbformat": 4,
 "nbformat_minor": 5
}
